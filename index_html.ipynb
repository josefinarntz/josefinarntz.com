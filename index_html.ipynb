{
  "nbformat": 4,
  "nbformat_minor": 0,
  "metadata": {
    "colab": {
      "provenance": []
    },
    "kernelspec": {
      "name": "python3",
      "display_name": "Python 3"
    },
    "language_info": {
      "name": "python"
    }
  },
  "cells": [
    {
      "cell_type": "code",
      "execution_count": null,
      "metadata": {
        "id": "9lhQp_FX-2i7"
      },
      "outputs": [],
      "source": [
        "<!DOCTYPE html>\n",
        "<html lang=\"en\"\n",
        "<head>\n",
        "<meta charset=\"UTF-8\">\n",
        "<meta name=\"viewport\" content=\"width=device-width, initial-scale=1.0\">\n",
        "<title>Curriculum Vitae</title>\n",
        "<meta name>\"autor\" content=\"Josefina Arntz\"\n",
        "</head>\n",
        "<body>\n",
        "<h1>Currículum Vitae</h1>\n",
        "<h2>Josefina Arntz San Miguel</h2>\n",
        "<h4><em>josefina.arntz@uc.cl   +56 9 5396 1103</em></h4>\n",
        "<p>Estudiante de Periodismo de último semestre de la Pontificia Universidad Católica de Chile. He participado en proyectos relacionados a la prensa escrita, edición, radio y verificación de datos</p>\n",
        "<section id=\"educacion\">\n",
        "    <h3>Educación</h3>\n",
        "    <ol>\n",
        "        <li>\n",
        "            <h4>Licenciatura en Comunicación Social y Periodismo</h4>\n",
        "            <p>Pontificia Universidad Católica de Chile, 2020 - Actualidad</p>\n",
        "        </li>\n",
        "        <li>\n",
        "            <h4>Magíster en Políticas Públicas</h4>\n",
        "            <p>Pontificia Universidad Católica de Chile, 2024 - Actualidad</p>\n",
        "        </li>\n",
        "    </ol>\n",
        "</section>\n",
        "<section id=\"experiencia\">\n",
        "    <h3>Experiencia y participación en proyectos</h3>\n",
        "      <ul>\n",
        "        <li>Productora general de Radio UC (2022)</li>\n",
        "        <li>Ayudante Test de Actualidad (2022-2023)</li>\n",
        "        <li>Columnista Radio UC (2023)</li>\n",
        "        <li>Practicante Radio Duna (2023-2024)</li>\n",
        "    </ul>\n",
        "</section>\n",
        "<section id=\"contacto\">\n",
        "    <h3>Contacto</h3>\n",
        "    <p>Puedes contactarme a través de los siguientes medios:</p>\n",
        "<ul>\n",
        "        <li>LinkedIn: <a href=\"https://www.linkedin.com/in/josefina-arntz-san-miguel-8975a0225/\" target=\"_blank\">https://www.linkedin.com/in/josefina-arntz-san-miguel-8975a0225/</a></li>\n",
        "        <li>GitHub: <a href=\"https://github.com/josefinarntz\" target=\"_blank\">https://github.com/tuusuario</a></li>\n",
        "    </ul>\n",
        "</section>\n",
        "<section id=\"foto\">\n",
        "    <img src=\"https://www.google.com/url?sa=i&url=https%3A%2F%2Fcl.linkedin.com%2Fin%2Fren%25C3%25A9-valenzuela-23b69114b&psig=AOvVaw2VLoo7w9FIR-UHngo_uGef&ust=1717824845196000&source=images&cd=vfe&opi=89978449&ved=0CBIQjRxqFwoTCJj6767iyIYDFQAAAAAdAAAAABAE\" alt=\"Banner periodismo\">\n",
        "</section>\n",
        "<footer>\n",
        "    <p>&copy; 2024 [Josefina Arntz].</p>\n",
        "</footer>"
      ]
    }
  ]
}